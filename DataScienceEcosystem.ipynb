{
 "cells": [
  {
   "cell_type": "markdown",
   "id": "e63510f3-a87a-4872-8482-672ecfe9154e",
   "metadata": {
    "tags": []
   },
   "source": [
    "# Data Science Tools and Ecosystem\n"
   ]
  },
  {
   "cell_type": "markdown",
   "id": "55bf4c09-534e-49f2-a89f-4a86fdb6f618",
   "metadata": {},
   "source": [
    "In this notebook, a summary of Data Science Tools and Ecosystem is presented.\n"
   ]
  },
  {
   "cell_type": "markdown",
   "id": "33f6f631-6ed9-47a4-9fc6-4dbc7babcce2",
   "metadata": {},
   "source": [
    "**Objectives:**\n",
    "\n",
    "- Explore popular languages used in Data Science.\n",
    "- Discover commonly used libraries in the Data Science ecosystem.\n",
    "- Introduce development environment tools for Data Science.\n",
    "- Demonstrate evaluating arithmetic expressions in Python.\n",
    "- Illustrate the conversion of minutes to hours in Python.\n"
   ]
  },
  {
   "cell_type": "markdown",
   "id": "b440973e-4827-4f6d-80a6-299ca1c9cd50",
   "metadata": {
    "tags": []
   },
   "source": [
    "Some of the popular languages that Data Scientists use are:\n",
    "\n",
    "1. **Python**.\n",
    "\n",
    "2. **R**.\n",
    "\n",
    "3. **SQL**.\n",
    "\n",
    "4. **Julia**.\n",
    "\n",
    "5. **Scala**.\n"
   ]
  },
  {
   "cell_type": "markdown",
   "id": "8c799dda-0356-4a88-842b-85c618a688de",
   "metadata": {},
   "source": [
    "Some of the commonly used libraries used by Data Scientists include:\n",
    "\n",
    "1. **NumPy**.\n",
    "2. **Pandas**.\n",
    "3. **Scikit-learn**.\n",
    "4. **Matplotlib**.\n",
    "5. **TensorFlow**.\n",
    "6. **Seaborn**.\n",
    "7. **NLTK (Natural Language Toolkit)**.\n"
   ]
  },
  {
   "cell_type": "markdown",
   "id": "b0f1bd79-97b6-4e62-ad23-f8712147ba37",
   "metadata": {},
   "source": [
    "| Data Science Tools            |\n",
    "|-------------------------------|\n",
    "| Jupyter Notebooks             |\n",
    "| RStudio                       |\n",
    "| VS Code                       |\n"
   ]
  },
  {
   "cell_type": "markdown",
   "id": "bc00cece-84dc-4d7a-8067-acda1282d1cb",
   "metadata": {},
   "source": [
    "### Below are a few examples of evaluating arithmetic expressions in Python"
   ]
  },
  {
   "cell_type": "code",
   "execution_count": 3,
   "id": "f14a1f00-a579-4c12-96b9-fe1b791a1ea1",
   "metadata": {
    "tags": []
   },
   "outputs": [
    {
     "name": "stdout",
     "output_type": "stream",
     "text": [
      "17\n"
     ]
    }
   ],
   "source": [
    "# This is a simple arithmetic expression to multiply then add integers.\n",
    "result = (3 * 4) + 5\n",
    "print(result)"
   ]
  },
  {
   "cell_type": "code",
   "execution_count": 4,
   "id": "ce452883-3b0f-4090-9a2f-98ed8deecd36",
   "metadata": {
    "tags": []
   },
   "outputs": [
    {
     "name": "stdout",
     "output_type": "stream",
     "text": [
      "3.3333333333333335\n"
     ]
    }
   ],
   "source": [
    "# This will convert 200 minutes to hours by dividing by 60.\n",
    "hours = 200 / 60\n",
    "print(hours)"
   ]
  },
  {
   "cell_type": "markdown",
   "id": "3ab1e119-b158-4a6e-a21c-92f18268b456",
   "metadata": {},
   "source": [
    "## Author\n",
    "BOUROU HAMZA"
   ]
  },
  {
   "cell_type": "code",
   "execution_count": null,
   "id": "ddf5f416-1232-4942-bcb5-c18a029f84e9",
   "metadata": {},
   "outputs": [],
   "source": []
  }
 ],
 "metadata": {
  "kernelspec": {
   "display_name": "Python",
   "language": "python",
   "name": "conda-env-python-py"
  },
  "language_info": {
   "codemirror_mode": {
    "name": "ipython",
    "version": 3
   },
   "file_extension": ".py",
   "mimetype": "text/x-python",
   "name": "python",
   "nbconvert_exporter": "python",
   "pygments_lexer": "ipython3",
   "version": "3.7.12"
  }
 },
 "nbformat": 4,
 "nbformat_minor": 5
}
